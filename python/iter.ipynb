{
 "cells": [
  {
   "cell_type": "markdown",
   "id": "9d9ec539",
   "metadata": {},
   "source": [
    "## Iterables, Iterators, Generators\n",
    "\n",
    "* **Iterable**: an object that can produce an iterator via `__iter__()`. (Sequences can also be \"iterable\" by supporting `__getitem__(0..))\n",
    "* **Iterator**: an object that implements the **iterator protocol**: \n",
    "  * `__iter__(self) -> Iterator`: must return `self`\n",
    "  * `__next__(self) -> T`: returns the next item; raises `StopIteration` when exhausted.\n",
    "  * values can be pulled with `next(it)` until the iterator is done\n",
    "* **Iterator vs Iterable**:\n",
    "  * **Iterable**: \"can be iterated over\", i.e. defines `__iter__` that returns a **new iterator each time**. Examples: *Lists, tuples, ranges, strings, dict, files, generators*\n",
    "  * **Iterator**: the one-short **stateful** object, that is the actual thing you step through with `next`\n",
    "* **Generators**: generators **are** iterators\n",
    "  * a **generator function** produces a generator object that already implements `__iter__` and `__next__`, using `yield` - it is an iterator"
   ]
  },
  {
   "cell_type": "code",
   "execution_count": null,
   "id": "6ebedf39",
   "metadata": {},
   "outputs": [
    {
     "name": "stdout",
     "output_type": "stream",
     "text": [
      "[1, 2, 3]\n",
      "[]\n"
     ]
    }
   ],
   "source": [
    "def count(n):\n",
    "    i = 1\n",
    "    while i <= n:\n",
    "        yield i\n",
    "        i += 1\n",
    "\n",
    "it = count(3)\n",
    "print(list(it))\n",
    "print(list(it)) # already exhausted"
   ]
  },
  {
   "cell_type": "markdown",
   "id": "33a0cbbb",
   "metadata": {},
   "source": [
    "### Custom Iterator-Example\n",
    "\n",
    "Re-iterable container + separate iterator object:"
   ]
  },
  {
   "cell_type": "code",
   "execution_count": 3,
   "id": "8e40db32",
   "metadata": {},
   "outputs": [
    {
     "data": {
      "text/plain": [
       "[3, 2, 1]"
      ]
     },
     "execution_count": 3,
     "metadata": {},
     "output_type": "execute_result"
    }
   ],
   "source": [
    "from typing import Iterable, Iterator\n",
    "\n",
    "class Countdown(Iterable[int]):\n",
    "    def __init__(self, n: int):\n",
    "        self.n = n\n",
    "    def __iter__(self) -> Iterator[int]:\n",
    "        return CountdownIter(self.n)\n",
    "\n",
    "class CountdownIter(Iterator[int]):\n",
    "    def __init__(self, n: int):\n",
    "        self.i = n + 1\n",
    "    def __iter__(self) -> \"CountdownIter\":\n",
    "        return self\n",
    "    def __next__(self) -> int:\n",
    "        self.i -= 1\n",
    "        if self.i <= 0:\n",
    "            raise StopIteration\n",
    "        return self.i\n",
    "    \n",
    "c = Countdown(3)\n",
    "list(c)"
   ]
  }
 ],
 "metadata": {
  "kernelspec": {
   "display_name": "Python 3",
   "language": "python",
   "name": "python3"
  },
  "language_info": {
   "codemirror_mode": {
    "name": "ipython",
    "version": 3
   },
   "file_extension": ".py",
   "mimetype": "text/x-python",
   "name": "python",
   "nbconvert_exporter": "python",
   "pygments_lexer": "ipython3",
   "version": "3.10.12"
  }
 },
 "nbformat": 4,
 "nbformat_minor": 5
}
