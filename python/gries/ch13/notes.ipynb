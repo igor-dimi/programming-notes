{
 "cells": [
  {
   "cell_type": "code",
   "execution_count": 2,
   "id": "58024cd1",
   "metadata": {},
   "outputs": [
    {
     "name": "stdout",
     "output_type": "stream",
     "text": [
      "[1, 2, 3, 4] [1, 2]\n",
      "[1, 2, 3, 4] [-99, 2]\n"
     ]
    }
   ],
   "source": [
    "\n",
    "def ls(a, val):\n",
    "    def lsi(a, val, i):\n",
    "        if i == len(a): return -1\n",
    "        if a[i] == val: return i\n",
    "        return lsi(a, val, i + 1)\n",
    "    return lsi(a, val, 0)\n",
    "\n",
    "ls([], 100)\n",
    "\n",
    "\n",
    "def lsi_it(a, val):\n",
    "    # val not in a[0:i]\n",
    "    for i in range(len(a)):\n",
    "        if a[i] == val: return i\n",
    "    return -1\n",
    "\n",
    "ls([1, 2, 3], 4)\n",
    "\n",
    "a = [1, 2, 3, 4]\n",
    "b = a[0:len(a) // 2]\n",
    "print(a, b)\n",
    "b[0] = -99\n",
    "print(a, b)"
   ]
  }
 ],
 "metadata": {
  "kernelspec": {
   "display_name": "Python 3",
   "language": "python",
   "name": "python3"
  },
  "language_info": {
   "codemirror_mode": {
    "name": "ipython",
    "version": 3
   },
   "file_extension": ".py",
   "mimetype": "text/x-python",
   "name": "python",
   "nbconvert_exporter": "python",
   "pygments_lexer": "ipython3",
   "version": "3.10.12"
  }
 },
 "nbformat": 4,
 "nbformat_minor": 5
}
