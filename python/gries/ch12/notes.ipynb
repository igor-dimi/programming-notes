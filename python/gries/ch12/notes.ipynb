{
 "cells": [
  {
   "cell_type": "markdown",
   "id": "7491ce2c",
   "metadata": {},
   "source": [
    "## Algorithms"
   ]
  },
  {
   "cell_type": "code",
   "execution_count": 1,
   "id": "4fa8a73a",
   "metadata": {},
   "outputs": [],
   "source": [
    "counts = [809, 834, 477, 478, 307, 122, 96, 102, 324, 476]"
   ]
  },
  {
   "cell_type": "code",
   "execution_count": null,
   "id": "935a21db",
   "metadata": {},
   "outputs": [],
   "source": []
  }
 ],
 "metadata": {
  "kernelspec": {
   "display_name": "Python 3",
   "language": "python",
   "name": "python3"
  },
  "language_info": {
   "codemirror_mode": {
    "name": "ipython",
    "version": 3
   },
   "file_extension": ".py",
   "mimetype": "text/x-python",
   "name": "python",
   "nbconvert_exporter": "python",
   "pygments_lexer": "ipython3",
   "version": "3.10.12"
  }
 },
 "nbformat": 4,
 "nbformat_minor": 5
}
