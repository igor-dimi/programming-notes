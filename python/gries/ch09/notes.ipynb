{
 "cells": [
  {
   "cell_type": "markdown",
   "id": "46d0d385",
   "metadata": {},
   "source": [
    "## Loops"
   ]
  },
  {
   "cell_type": "code",
   "execution_count": null,
   "id": "bc1849f6",
   "metadata": {},
   "outputs": [
    {
     "name": "stdout",
     "output_type": "stream",
     "text": [
      "metric: 0.0, imperial: 0.0\n",
      "metric: 9.81, imperial: 32.1768\n",
      "metric: 19.62, imperial: 64.3536\n"
     ]
    }
   ],
   "source": [
    "velocity = [0.0, 9.81, 19.62]\n",
    "for v in velocity:\n",
    "    print(f\"metric: {v}, imperial: {v * 3.28}\")\n",
    "    "
   ]
  },
  {
   "cell_type": "code",
   "execution_count": 9,
   "id": "ddd8a1c4",
   "metadata": {},
   "outputs": [
    {
     "name": "stdout",
     "output_type": "stream",
     "text": [
      "[1, 2, 3]\n",
      "[2, 3, 4]\n"
     ]
    }
   ],
   "source": [
    "string = 'this is a string'\n",
    "for ch in string:\n",
    "    ch = 'x'\n",
    "string\n",
    "\n",
    "\n",
    "a = [1, 2, 3]\n",
    "for val in a:\n",
    "    val += 1\n",
    "print(a)\n",
    "\n",
    "for i in range(len(a)):\n",
    "    a[i] += 1\n",
    "print(a)"
   ]
  },
  {
   "cell_type": "code",
   "execution_count": null,
   "id": "c2bc508b",
   "metadata": {},
   "outputs": [],
   "source": []
  }
 ],
 "metadata": {
  "kernelspec": {
   "display_name": "Python 3",
   "language": "python",
   "name": "python3"
  },
  "language_info": {
   "codemirror_mode": {
    "name": "ipython",
    "version": 3
   },
   "file_extension": ".py",
   "mimetype": "text/x-python",
   "name": "python",
   "nbconvert_exporter": "python",
   "pygments_lexer": "ipython3",
   "version": "3.10.12"
  }
 },
 "nbformat": 4,
 "nbformat_minor": 5
}
