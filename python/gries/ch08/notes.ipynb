{
 "cells": [
  {
   "cell_type": "markdown",
   "id": "316cde9a",
   "metadata": {},
   "source": [
    "## Lists\n",
    "\n"
   ]
  },
  {
   "cell_type": "code",
   "execution_count": 2,
   "id": "82cd77c4",
   "metadata": {},
   "outputs": [
    {
     "data": {
      "text/plain": [
       "'there'"
      ]
     },
     "execution_count": 2,
     "metadata": {},
     "output_type": "execute_result"
    }
   ],
   "source": [
    "a = ['hey', 'there']\n",
    "b = a[1]\n",
    "b\n"
   ]
  },
  {
   "cell_type": "code",
   "execution_count": 4,
   "id": "7ca422eb",
   "metadata": {},
   "outputs": [
    {
     "data": {
      "text/plain": [
       "['hey', 'there']"
      ]
     },
     "execution_count": 4,
     "metadata": {},
     "output_type": "execute_result"
    }
   ],
   "source": [
    "b = 'here'\n",
    "a"
   ]
  },
  {
   "cell_type": "code",
   "execution_count": 6,
   "id": "36e78a04",
   "metadata": {},
   "outputs": [],
   "source": [
    "b = a[:]\n",
    "alias = a"
   ]
  },
  {
   "cell_type": "code",
   "execution_count": 12,
   "id": "6f2a8131",
   "metadata": {},
   "outputs": [
    {
     "name": "stdout",
     "output_type": "stream",
     "text": [
      "b: ['good bye', 'there'] a: ['hey', 1]\n",
      "b: ['good bye', 'there'] a: ['hey', 1]\n"
     ]
    }
   ],
   "source": [
    "b[0] = 'good bye'\n",
    "print(\"b: {}\".format(b), \"a: {}\".format(a))\n",
    "alias[1] = 1\n",
    "print(\"b: {}\".format(b), \"a: {}\".format(a))\n"
   ]
  },
  {
   "cell_type": "code",
   "execution_count": null,
   "id": "64d3cfe1",
   "metadata": {},
   "outputs": [
    {
     "data": {
      "text/plain": [
       "5"
      ]
     },
     "execution_count": 16,
     "metadata": {},
     "output_type": "execute_result"
    }
   ],
   "source": [
    "len(\"this is a list, right?\".split())\n",
    "\n"
   ]
  },
  {
   "cell_type": "code",
   "execution_count": null,
   "id": "1e38d186",
   "metadata": {},
   "outputs": [],
   "source": []
  }
 ],
 "metadata": {
  "kernelspec": {
   "display_name": "Python 3",
   "language": "python",
   "name": "python3"
  },
  "language_info": {
   "codemirror_mode": {
    "name": "ipython",
    "version": 3
   },
   "file_extension": ".py",
   "mimetype": "text/x-python",
   "name": "python",
   "nbconvert_exporter": "python",
   "pygments_lexer": "ipython3",
   "version": "3.10.12"
  }
 },
 "nbformat": 4,
 "nbformat_minor": 5
}
