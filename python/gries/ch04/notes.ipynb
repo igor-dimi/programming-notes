{
 "cells": [
  {
   "cell_type": "markdown",
   "id": "b8c29429",
   "metadata": {},
   "source": [
    "# Strings\n",
    "\n"
   ]
  },
  {
   "cell_type": "code",
   "execution_count": 2,
   "id": "a82a5532",
   "metadata": {},
   "outputs": [
    {
     "name": "stdout",
     "output_type": "stream",
     "text": [
      "138612154248784\n",
      "hellohellohello 138612151715120\n"
     ]
    }
   ],
   "source": [
    "s = \"hello\"\n",
    "print(id(s))\n",
    "s *= 3\n",
    "print(s, id(s))"
   ]
  },
  {
   "cell_type": "code",
   "execution_count": null,
   "id": "686b15bb",
   "metadata": {},
   "outputs": [
    {
     "name": "stdout",
     "output_type": "stream",
     "text": [
      "126330849422208 126330849422208\n",
      "126330849633648 126330849627568\n",
      "she said \"that's better\"\n",
      "hey\\s\n",
      "this\tthat\they\n",
      "\tone\n",
      "    two\n",
      "    three\n",
      "string\n",
      "is\n",
      "string\n"
     ]
    },
    {
     "data": {
      "text/plain": [
       "'one\\ntwo\\nthree'"
      ]
     },
     "execution_count": 42,
     "metadata": {},
     "output_type": "execute_result"
    }
   ],
   "source": [
    "x = (1, 2)\n",
    "id(x)\n",
    "y = x \n",
    "print(id(x), id(y))\n",
    "\n",
    "'aristotle'\n",
    "\"newton\"\n",
    "\n",
    "'Charles Darwin'\n",
    "\n",
    "\"\"\n",
    "len(\"\")\n",
    "\n",
    "id(\"hey\")\n",
    "\n",
    "'hey' * 3\n",
    "\n",
    "str(7)\n",
    "int('1034')\n",
    "\n",
    "'long string' * -1\n",
    "\n",
    "s = 'hey there buddy'\n",
    "print(\n",
    "    id(s),\n",
    "    id('hey there buddy')\n",
    ")\n",
    "\n",
    "\"that's better\"\n",
    "\n",
    "print('she said \"that\\'s better\"')\n",
    "print(\"hey\\\\s\")\n",
    "\n",
    "print('this\\tthat\\they')\n",
    "\n",
    "s = '''\\tone\n",
    "    two\n",
    "    three'''\n",
    "print(s)\n",
    "\n",
    "s2 = \"\"\"string\n",
    "is\n",
    "string\"\"\"\n",
    "\n",
    "print(s2)\n",
    "\n",
    "'''one\n",
    "two\n",
    "three'''\n",
    "\n",
    "\"\"\"one\n",
    "two\n",
    "three\"\"\"\n",
    "\n"
   ]
  },
  {
   "cell_type": "markdown",
   "id": "7f6dad58",
   "metadata": {},
   "source": [
    "`kwargs` stands for **k**ey**w**ord arguments"
   ]
  },
  {
   "cell_type": "code",
   "execution_count": 85,
   "id": "f5bcf585",
   "metadata": {},
   "outputs": [
    {
     "name": "stdout",
     "output_type": "stream",
     "text": [
      "a, b, c hey there\n"
     ]
    }
   ],
   "source": [
    "print('a', 'b', 'c', end = '', sep = ', ')\n",
    "print(' hey there')\n",
    "\n",
    "species = input()\n",
    "\n",
    "population = input(\"enter some number:\")\n"
   ]
  },
  {
   "cell_type": "code",
   "execution_count": 80,
   "id": "877fcd45",
   "metadata": {},
   "outputs": [
    {
     "name": "stdout",
     "output_type": "stream",
     "text": [
      "1264\n",
      "126500\n"
     ]
    }
   ],
   "source": [
    "print(population)\n",
    "population += 1\n",
    "print(population * 100)"
   ]
  }
 ],
 "metadata": {
  "kernelspec": {
   "display_name": "quarto-env",
   "language": "python",
   "name": "python3"
  },
  "language_info": {
   "codemirror_mode": {
    "name": "ipython",
    "version": 3
   },
   "file_extension": ".py",
   "mimetype": "text/x-python",
   "name": "python",
   "nbconvert_exporter": "python",
   "pygments_lexer": "ipython3",
   "version": "3.12.11"
  }
 },
 "nbformat": 4,
 "nbformat_minor": 5
}
