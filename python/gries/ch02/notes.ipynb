{
 "cells": [
  {
   "cell_type": "markdown",
   "id": "6aee39d6",
   "metadata": {},
   "source": [
    "## Basic Notions \n",
    "\n",
    "expressions, operators, operands, types, values, commands. \n",
    "\n",
    "## Python Memory Model\n",
    "\n",
    "\n"
   ]
  },
  {
   "cell_type": "code",
   "execution_count": null,
   "id": "2346232b",
   "metadata": {},
   "outputs": [
    {
     "name": "stdout",
     "output_type": "stream",
     "text": [
      "2.5 2.0 7.0 2 2.0 2.692307692307692 243 -5 5.318470701864232 10000000000.0 10000000000.0 -16 -16 16\n"
     ]
    }
   ],
   "source": [
    "print(\n",
    "    5 / 2,\n",
    "    4 / 2,\n",
    "    17 - 10.0,\n",
    "    53 // 24, \n",
    "    3.5 // 1.3,\n",
    "    3.5 / 1.3,\n",
    "    3 ** 5, \n",
    "    ---5,\n",
    "    3.5 ** 1.334,\n",
    "    10000000000 + 0.0000000001,\n",
    "    10000000000.0000000001,\n",
    "    -2 ** 4,\n",
    "    -(2 ** 4),\n",
    "    (-2) ** 4\n",
    "\n",
    ")"
   ]
  },
  {
   "cell_type": "markdown",
   "id": "1161898d",
   "metadata": {},
   "source": []
  },
  {
   "cell_type": "code",
   "execution_count": 20,
   "id": "99b52bfb",
   "metadata": {},
   "outputs": [
    {
     "name": "stdout",
     "output_type": "stream",
     "text": [
      "25.0\n"
     ]
    }
   ],
   "source": [
    "degree_celsius = 25.0\n",
    "print(degree_celsius)"
   ]
  },
  {
   "cell_type": "code",
   "execution_count": 24,
   "id": "b87244ab",
   "metadata": {},
   "outputs": [
    {
     "name": "stdout",
     "output_type": "stream",
     "text": [
      "a: 5 b: 5\n",
      "a: 6 b: 5\n"
     ]
    }
   ],
   "source": [
    "a = 5\n",
    "b = a\n",
    "print(\"a:\", a, \"b:\", b)\n",
    "a = 6\n",
    "print(\"a:\", a, \"b:\", b)"
   ]
  },
  {
   "cell_type": "code",
   "execution_count": 26,
   "id": "b226a7d1",
   "metadata": {},
   "outputs": [
    {
     "name": "stdout",
     "output_type": "stream",
     "text": [
      "50\n",
      "100\n"
     ]
    }
   ],
   "source": [
    "score = 50\n",
    "print(score)\n",
    "score += 50\n",
    "print(score)"
   ]
  },
  {
   "cell_type": "code",
   "execution_count": 28,
   "id": "9f32fb9c",
   "metadata": {},
   "outputs": [
    {
     "ename": "NameError",
     "evalue": "name 'foo' is not defined",
     "output_type": "error",
     "traceback": [
      "\u001b[0;31m---------------------------------------------------------------------------\u001b[0m",
      "\u001b[0;31mNameError\u001b[0m                                 Traceback (most recent call last)",
      "Cell \u001b[0;32mIn[28], line 1\u001b[0m\n\u001b[0;32m----> 1\u001b[0m \u001b[43mfoo\u001b[49m \u001b[38;5;241m+\u001b[39m \u001b[38;5;241m2\u001b[39m\n",
      "\u001b[0;31mNameError\u001b[0m: name 'foo' is not defined"
     ]
    }
   ],
   "source": [
    "foo + 2"
   ]
  },
  {
   "cell_type": "code",
   "execution_count": 31,
   "id": "2f1576d5",
   "metadata": {},
   "outputs": [
    {
     "data": {
      "text/plain": [
       "5"
      ]
     },
     "execution_count": 31,
     "metadata": {},
     "output_type": "execute_result"
    }
   ],
   "source": [
    "(2 + \n",
    " 3 )"
   ]
  },
  {
   "cell_type": "code",
   "execution_count": 32,
   "id": "12292dd8",
   "metadata": {},
   "outputs": [
    {
     "data": {
      "text/plain": [
       "7"
      ]
     },
     "execution_count": 32,
     "metadata": {},
     "output_type": "execute_result"
    }
   ],
   "source": [
    "2 + \\\n",
    "5"
   ]
  },
  {
   "cell_type": "code",
   "execution_count": 5,
   "id": "a63430b8",
   "metadata": {},
   "outputs": [
    {
     "data": {
      "text/plain": [
       "True"
      ]
     },
     "execution_count": 5,
     "metadata": {},
     "output_type": "execute_result"
    }
   ],
   "source": [
    "id(2)\n",
    "x = 2\n",
    "id(x)\n",
    "id(x) == 2\n",
    "y = x\n",
    "id(y) == id(x)"
   ]
  },
  {
   "cell_type": "code",
   "execution_count": null,
   "id": "1ef3de97",
   "metadata": {},
   "outputs": [
    {
     "name": "stdout",
     "output_type": "stream",
     "text": [
      "6\n",
      "Help on built-in function abs in module builtins:\n",
      "\n",
      "abs(x, /)\n",
      "    Return the absolute value of the argument.\n",
      "\n",
      "Help on built-in function round in module builtins:\n",
      "\n",
      "round(number, ndigits=None)\n",
      "    Round a number to a given precision in decimal digits.\n",
      "    \n",
      "    The return value is an integer if ndigits is omitted or None.  Otherwise\n",
      "    the return value has the same type as the number.  ndigits may be negative.\n",
      "\n",
      "Help on built-in function pow in module builtins:\n",
      "\n",
      "pow(base, exp, mod=None)\n",
      "    Equivalent to base**exp with 2 arguments or base**exp % mod with 3 arguments\n",
      "    \n",
      "    Some types, such as ints, are able to use a more efficient algorithm when\n",
      "    invoked using the three argument form.\n",
      "\n"
     ]
    },
    {
     "data": {
      "text/plain": [
       "0"
      ]
     },
     "execution_count": 17,
     "metadata": {},
     "output_type": "execute_result"
    }
   ],
   "source": [
    "x = 3\n",
    "x += 2 * x - x\n",
    "print(x)\n",
    "\n",
    "\n",
    "int(32)\n",
    "int(234.5)\n",
    "float(21)\n",
    "help(abs)\n",
    "help(round)\n",
    "help(pow)\n",
    "pow(2, 4, 3)"
   ]
  }
 ],
 "metadata": {
  "kernelspec": {
   "display_name": "Python 3",
   "language": "python",
   "name": "python3"
  },
  "language_info": {
   "codemirror_mode": {
    "name": "ipython",
    "version": 3
   },
   "file_extension": ".py",
   "mimetype": "text/x-python",
   "name": "python",
   "nbconvert_exporter": "python",
   "pygments_lexer": "ipython3",
   "version": "3.10.12"
  }
 },
 "nbformat": 4,
 "nbformat_minor": 5
}
