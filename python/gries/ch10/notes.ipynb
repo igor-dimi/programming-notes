{
 "cells": [
  {
   "cell_type": "markdown",
   "id": "b5c043f3",
   "metadata": {},
   "source": [
    "## Files"
   ]
  },
  {
   "cell_type": "code",
   "execution_count": 3,
   "id": "cf216fba",
   "metadata": {},
   "outputs": [
    {
     "name": "stdout",
     "output_type": "stream",
     "text": [
      "first line of text\n",
      "second line of text\n",
      "third line of text\n"
     ]
    },
    {
     "data": {
      "text/plain": [
       "'first line of text\\nsecond line of text\\nthird line of text'"
      ]
     },
     "execution_count": 3,
     "metadata": {},
     "output_type": "execute_result"
    }
   ],
   "source": [
    "file = open('file.txt', 'r')\n",
    "contents = file.read()\n",
    "file.close()\n",
    "print(contents)\n",
    "contents"
   ]
  },
  {
   "cell_type": "code",
   "execution_count": 5,
   "id": "13403679",
   "metadata": {},
   "outputs": [
    {
     "name": "stdout",
     "output_type": "stream",
     "text": [
      "first line of text\n",
      "second line of text\n",
      "third line of text\n"
     ]
    }
   ],
   "source": [
    "with open('file.txt') as f:\n",
    "    cont = f.read()\n",
    "\n",
    "print(cont)"
   ]
  },
  {
   "cell_type": "code",
   "execution_count": 8,
   "id": "8648ada3",
   "metadata": {},
   "outputs": [
    {
     "name": "stdout",
     "output_type": "stream",
     "text": [
      "first 10 chars:  first line\n",
      "\n",
      "rest:   of text\n",
      "second line of text\n",
      "third line of text\n"
     ]
    }
   ],
   "source": [
    "with open('file.txt', 'r') as f2:\n",
    "    c2 = f2.read(10)\n",
    "    c3 = f2.read()\n",
    "print(\"first 10 chars: \", c2)\n",
    "print()\n",
    "print(\"rest: \", c3)"
   ]
  },
  {
   "cell_type": "code",
   "execution_count": 10,
   "id": "68fe49da",
   "metadata": {},
   "outputs": [
    {
     "name": "stdout",
     "output_type": "stream",
     "text": [
      "['first line of text\\n', 'second line of text\\n', 'third line of text']\n"
     ]
    }
   ],
   "source": [
    "with open('file.txt', 'r') as f:\n",
    "    lines = f.readlines()\n",
    "\n",
    "print(lines)"
   ]
  },
  {
   "cell_type": "code",
   "execution_count": 1,
   "id": "9378633b",
   "metadata": {},
   "outputs": [
    {
     "name": "stdout",
     "output_type": "stream",
     "text": [
      "Mars\n",
      "Earth\n",
      "Venus\n",
      "Mercury\n",
      "Earth\n",
      "Mars\n",
      "Mercury\n",
      "Venus\n",
      "8\n",
      "6\n",
      "6\n",
      "4\n"
     ]
    }
   ],
   "source": [
    "with open('planets.txt', 'r') as f:\n",
    "    planets = f.readlines()\n",
    "\n",
    "for planet in reversed(planets):\n",
    "    print(planet.strip())\n",
    "\n",
    "for p in sorted(planets):\n",
    "    print(p.strip())\n",
    "\n",
    "with open('planets.txt', 'r') as f:\n",
    "    for l in f:\n",
    "        print(len(l))\n",
    "\n"
   ]
  },
  {
   "cell_type": "code",
   "execution_count": 10,
   "id": "2947a894",
   "metadata": {},
   "outputs": [
    {
     "name": "stdout",
     "output_type": "stream",
     "text": [
      "total:  373\n"
     ]
    }
   ],
   "source": [
    "with open('hopedale.txt', 'r') as f:\n",
    "    # read and skip the description line\n",
    "    f.readline()\n",
    "    l = f.readline().strip()\n",
    "    while l.startswith('#'):\n",
    "        l = f.readline().strip()\n",
    "\n",
    "    # now we have the first piece of data\n",
    "    total = int(l)\n",
    "    \n",
    "    # read the rest\n",
    "    for l in f:\n",
    "        if not l.strip().isnumeric: continue\n",
    "        else: total += int(l.strip())\n",
    "\n",
    "print(\"total: \", total)"
   ]
  },
  {
   "cell_type": "markdown",
   "id": "b2076f89",
   "metadata": {},
   "source": [
    "## Files over the Internet "
   ]
  },
  {
   "cell_type": "code",
   "execution_count": 13,
   "id": "f57f03fd",
   "metadata": {},
   "outputs": [
    {
     "name": "stdout",
     "output_type": "stream",
     "text": [
      "Coloured fox fur production, HOPEDALE, Labrador,, 1834-1925\n",
      "#Source: C. Elton (1942) \"Voles, Mice and Lemmings\", Oxford Univ. Press\n",
      "#Table 17, p.265--266\n",
      "      22\n",
      "      29\n",
      "       2\n",
      "      16\n",
      "      12\n",
      "      35\n",
      "       8\n",
      "      83\n",
      "     166\n",
      "      62\n",
      "      77\n",
      "      42\n",
      "      54\n",
      "      56\n",
      "       5\n",
      "       9\n",
      "      78\n",
      "     151\n",
      "      27\n",
      "      14\n",
      "      71\n",
      "     261\n",
      "      22\n",
      "       3\n",
      "      16\n",
      "      70\n",
      "       7\n",
      "       2\n",
      "      26\n",
      "      27\n",
      "      35\n",
      "       9\n",
      "      11\n",
      "      73\n",
      "      39\n",
      "      22\n",
      "      41\n",
      "      31\n",
      "      60\n",
      "       7\n",
      "      28\n",
      "      43\n",
      "      17\n",
      "      26\n",
      "      35\n",
      "      60\n",
      "      75\n",
      "      18\n",
      "      58\n",
      "      38\n",
      "      28\n",
      "      26\n",
      "      29\n",
      "      43\n",
      "      16\n",
      "      40\n",
      "      25\n",
      "      28\n",
      "      12\n",
      "      22\n",
      "      13\n",
      "      52\n",
      "      90\n",
      "     103\n",
      "      15\n",
      "      26\n",
      "      29\n",
      "     102\n",
      "      31\n",
      "       9\n",
      "      33\n",
      "      90\n",
      "      95\n",
      "      17\n",
      "      35\n",
      "      59\n",
      "     115\n",
      "      12\n",
      "      26\n",
      "      38\n",
      "     202\n",
      "      25\n",
      "      83\n",
      "      92\n",
      "      58\n",
      "       0\n",
      "      19\n",
      "      63\n",
      "     108\n",
      "      25\n",
      "      38\n",
      "     231\n"
     ]
    }
   ],
   "source": [
    "import urllib.request\n",
    "\n",
    "\n",
    "\n",
    "url = 'https://robjhyndman.com/tsdldata/ecology1/hopedale.dat'\n",
    "\n",
    "# Create a request with a User-Agent header\n",
    "req = urllib.request.Request(\n",
    "    url,\n",
    "    headers={'User-Agent': 'Mozilla/5.0'}\n",
    ")\n",
    "\n",
    "\n",
    "with urllib.request.urlopen(req) as webpage:\n",
    "    for l in webpage:\n",
    "        l = l.rstrip()\n",
    "        l = l.decode('utf-8')\n",
    "        print(l)"
   ]
  },
  {
   "cell_type": "code",
   "execution_count": 17,
   "id": "91c0f1ae",
   "metadata": {},
   "outputs": [],
   "source": [
    "with open('topics.txt', 'w') as f:\n",
    "    f.write(\"computer science\")\n",
    "\n",
    "with open('topics.txt', 'a') as f:\n",
    "    f.write('\\nSoftware Engineering')"
   ]
  },
  {
   "cell_type": "code",
   "execution_count": null,
   "id": "426f3b52",
   "metadata": {},
   "outputs": [],
   "source": []
  }
 ],
 "metadata": {
  "kernelspec": {
   "display_name": "Python 3",
   "language": "python",
   "name": "python3"
  },
  "language_info": {
   "codemirror_mode": {
    "name": "ipython",
    "version": 3
   },
   "file_extension": ".py",
   "mimetype": "text/x-python",
   "name": "python",
   "nbconvert_exporter": "python",
   "pygments_lexer": "ipython3",
   "version": "3.10.12"
  }
 },
 "nbformat": 4,
 "nbformat_minor": 5
}
